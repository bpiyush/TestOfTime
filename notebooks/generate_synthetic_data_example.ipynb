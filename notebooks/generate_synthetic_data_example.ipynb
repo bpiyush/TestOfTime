{
 "cells": [
  {
   "cell_type": "code",
   "execution_count": 1,
   "id": "162846e5-e6a6-436a-b472-1c38a580da8b",
   "metadata": {
    "tags": []
   },
   "outputs": [],
   "source": [
    "%load_ext autoreload\n",
    "%autoreload 2"
   ]
  },
  {
   "cell_type": "code",
   "execution_count": 2,
   "id": "fbb2ae6b-c7e7-432c-af09-5dc02350aed7",
   "metadata": {
    "tags": []
   },
   "outputs": [],
   "source": [
    "from PIL import Image, ImageDraw\n",
    "import cv2\n",
    "import numpy as np\n",
    "import matplotlib.colors as mc\n",
    "from copy import deepcopy\n",
    "import imageio\n",
    "from tqdm import tqdm\n",
    "import os\n",
    "import torch\n",
    "import torchvision\n",
    "import itertools"
   ]
  },
  {
   "cell_type": "code",
   "execution_count": 3,
   "id": "5694ec6b-5796-405a-b931-3fbaa1ab8995",
   "metadata": {
    "tags": []
   },
   "outputs": [],
   "source": [
    "from package.utils.log import tqdm_iterator\n",
    "from package.utils.visualize import show_grid_of_images"
   ]
  },
  {
   "cell_type": "code",
   "execution_count": 4,
   "id": "9815ddfd-dad8-4089-966c-d97b29a7b79a",
   "metadata": {
    "tags": []
   },
   "outputs": [],
   "source": [
    "def get_empty_image(bg=\"black\"):\n",
    "    if bg == \"white\":\n",
    "        image = Image.fromarray(255 * np.ones((H, W, 3), dtype=np.uint8))\n",
    "    elif bg == \"black\":\n",
    "        image = Image.fromarray(np.zeros((H, W, 3), dtype=np.uint8))\n",
    "    else:\n",
    "        raise NotImplementedError\n",
    "    return image\n",
    "\n",
    "\n",
    "def process_color(color, alpha):\n",
    "\n",
    "    assert alpha <= 1. and alpha >= 0. and isinstance(alpha, float)\n",
    "    alpha = int(255 * alpha)\n",
    "\n",
    "    if isinstance(color, str):\n",
    "        color = mc.to_rgb(color)\n",
    "        color = list(color)\n",
    "        color = [int(255 * x) for x in color]   \n",
    "        # color will be RGB, need to pass alpha into the 4th channel\n",
    "        color += [alpha]\n",
    "        color = tuple(color)\n",
    "    else:\n",
    "        color = list(color)\n",
    "        if len(color) == 3:\n",
    "            color += [alpha]\n",
    "        color = tuple(color)\n",
    "\n",
    "    return alpha, color\n",
    "\n",
    "\n",
    "def save_gif(images, path):\n",
    "    images = [np.asarray(image) for image in images]\n",
    "    imageio.mimsave(path, images)\n",
    "\n",
    "\n",
    "def draw_circle_on_image(image, center, radius, color=(255,0,0,0), alpha=1.):\n",
    "    image = deepcopy(image)\n",
    "    draw = ImageDraw.Draw(image, \"RGBA\")\n",
    "    x, y = center\n",
    "    r = radius\n",
    "\n",
    "    alpha, color = process_color(color, alpha)\n",
    "    \n",
    "    draw.ellipse((x-r, y-r, x+r, y+r), fill=color)\n",
    "    return image\n",
    "\n",
    "    \n",
    "def draw_square_on_image(image, center, side, color=(255,0,0,0), alpha=1.):\n",
    "    image = deepcopy(image)\n",
    "    draw = ImageDraw.Draw(image, \"RGBA\")\n",
    "    \n",
    "    x0, y0 = int(center[0] - side // 2), int(center[1] - side // 2)\n",
    "    x1, y1 = int(center[0] + side // 2), int(center[1] + side // 2)\n",
    "    xy = [(x0, y0), (x1, y1)]\n",
    "\n",
    "    alpha, color = process_color(color, alpha)\n",
    "\n",
    "    draw.rectangle(xy=xy, fill=color)\n",
    "    return image\n",
    "\n",
    "\n",
    "def draw_triangle_on_image(image, center, side, color=(255,0,0,0), alpha=1.):\n",
    "    image = deepcopy(image)\n",
    "    draw = ImageDraw.Draw(image, \"RGBA\")\n",
    "\n",
    "    alpha, color = process_color(color, alpha)\n",
    "    \n",
    "    x, y = center\n",
    "    s = side\n",
    "    sides = [\n",
    "        (x - s/2., y + s / (2. * np.sqrt(3))),\n",
    "        (x, y - s / np.sqrt(3)),\n",
    "        (x + s/2., y + s / (2. * np.sqrt(3))),\n",
    "    ]\n",
    "    draw.polygon(sides, fill=color)\n",
    "    return image"
   ]
  },
  {
   "cell_type": "code",
   "execution_count": 5,
   "id": "5d241fe1-1714-4a8d-b65e-462e3e06b1ed",
   "metadata": {
    "tags": []
   },
   "outputs": [],
   "source": [
    "left_alpha_sequence = np.linspace(0, 1, 15)\n",
    "right_alpha_sequence = np.linspace(0, 1, 15)\n",
    "H, W = 224, 224\n",
    "\n",
    "\n",
    "left_shape = {\n",
    "    \"name\": \"triangle\",\n",
    "    \"common_args\": {\"side\": 100},\n",
    "}\n",
    "right_shape = {\n",
    "    \"name\": \"circle\",\n",
    "    \"common_args\": {\"radius\": 50},\n",
    "}\n",
    "\n",
    "images = []\n",
    "\n",
    "left_top = (W / 4, H / 4)\n",
    "left_radius = 50\n",
    "left_color = \"red\"\n",
    "left_generator_function = eval(f\"draw_{left_shape['name']}_on_image\")\n",
    "left_position = left_top\n",
    "\n",
    "\n",
    "right_bottom = (3 * W / 4, 3 * H / 4)\n",
    "right_radius = 50\n",
    "right_color = \"yellow\"\n",
    "right_generator_function = eval(f\"draw_{right_shape['name']}_on_image\")\n",
    "right_position = right_bottom\n",
    "\n",
    "for alpha in left_alpha_sequence:\n",
    "    image = get_empty_image(bg=\"black\")\n",
    "    image = left_generator_function(\n",
    "        image=image, center=left_position, color=left_color, alpha=alpha, **left_shape[\"common_args\"],\n",
    "    )\n",
    "    # image = draw_circle_on_image(image, right_bottom, right_radius, right_color, alpha=0.)\n",
    "    images.append(image)\n",
    "    \n",
    "for alpha in right_alpha_sequence:\n",
    "    image = get_empty_image(bg=\"black\")\n",
    "    # image = draw_circle_on_image(image, left_top, left_radius, left_color, alpha=1.)\n",
    "    # image = draw_circle_on_image(image, right_bottom, right_radius, right_color, alpha=alpha)\n",
    "    image = right_generator_function(\n",
    "        image=image, center=right_position, color=right_color, alpha=alpha, **right_shape[\"common_args\"],\n",
    "    )\n",
    "    images.append(image)"
   ]
  },
  {
   "cell_type": "code",
   "execution_count": 6,
   "id": "db3a35cb-43c8-476a-b15d-d3f0dca90f47",
   "metadata": {
    "tags": []
   },
   "outputs": [
    {
     "data": {
      "image/png": "[encoded data removed]",
      "text/plain": [
       "<Figure size 2000x300 with 10 Axes>"
      ]
     },
     "metadata": {},
     "output_type": "display_data"
    }
   ],
   "source": [
    "show_grid_of_images(images[::3], n_cols=10, figsize=(20, 3))"
   ]
  },
  {
   "cell_type": "code",
   "execution_count": null,
   "id": "70d3a8ac-2b41-4c42-a0fe-34c7669852d9",
   "metadata": {},
   "outputs": [],
   "source": []
  }
 ],
 "metadata": {
  "kernelspec": {
   "display_name": "Python 3 (ipykernel)",
   "language": "python",
   "name": "python3"
  },
  "language_info": {
   "codemirror_mode": {
    "name": "ipython",
    "version": 3
   },
   "file_extension": ".py",
   "mimetype": "text/x-python",
   "name": "python",
   "nbconvert_exporter": "python",
   "pygments_lexer": "ipython3",
   "version": "3.9.16"
  }
 },
 "nbformat": 4,
 "nbformat_minor": 5
}
